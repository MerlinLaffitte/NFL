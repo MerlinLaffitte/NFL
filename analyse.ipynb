{
 "cells": [
  {
   "cell_type": "code",
   "execution_count": 1,
   "metadata": {},
   "outputs": [
    {
     "data": {
      "text/plain": [
       "['First and Future Data Manual 12062018.docx',\n",
       " 'game_data.csv',\n",
       " 'NGS-2016-post.csv',\n",
       " 'NGS-2016-pre.csv',\n",
       " 'NGS-2016-reg-wk1-6.csv',\n",
       " 'NGS-2016-reg-wk13-17.csv',\n",
       " 'NGS-2016-reg-wk7-12.csv',\n",
       " 'NGS-2017-post.csv',\n",
       " 'NGS-2017-pre.csv',\n",
       " 'NGS-2017-reg-wk1-6.csv',\n",
       " 'NGS-2017-reg-wk13-17.csv',\n",
       " 'NGS-2017-reg-wk7-12.csv',\n",
       " 'player_punt_data.csv',\n",
       " 'play_information.csv',\n",
       " 'play_player_role_data.csv',\n",
       " 'video_footage-control.csv',\n",
       " 'video_footage-injury.csv',\n",
       " 'video_review.csv',\n",
       " '~$rst and Future Data Manual 12062018.docx']"
      ]
     },
     "execution_count": 1,
     "metadata": {},
     "output_type": "execute_result"
    }
   ],
   "source": [
    "import os\n",
    "\n",
    "os.listdir (\"./data\")"
   ]
  },
  {
   "cell_type": "code",
   "execution_count": 2,
   "metadata": {},
   "outputs": [
    {
     "data": {
      "text/html": [
       "<div>\n",
       "<style scoped>\n",
       "    .dataframe tbody tr th:only-of-type {\n",
       "        vertical-align: middle;\n",
       "    }\n",
       "\n",
       "    .dataframe tbody tr th {\n",
       "        vertical-align: top;\n",
       "    }\n",
       "\n",
       "    .dataframe thead th {\n",
       "        text-align: right;\n",
       "    }\n",
       "</style>\n",
       "<table border=\"1\" class=\"dataframe\">\n",
       "  <thead>\n",
       "    <tr style=\"text-align: right;\">\n",
       "      <th></th>\n",
       "      <th>Season_Year</th>\n",
       "      <th>GameKey</th>\n",
       "      <th>PlayID</th>\n",
       "      <th>GSISID</th>\n",
       "      <th>Time</th>\n",
       "      <th>x</th>\n",
       "      <th>y</th>\n",
       "      <th>dis</th>\n",
       "      <th>o</th>\n",
       "      <th>dir</th>\n",
       "      <th>Event</th>\n",
       "    </tr>\n",
       "  </thead>\n",
       "  <tbody>\n",
       "    <tr>\n",
       "      <th>5144770</th>\n",
       "      <td>2017</td>\n",
       "      <td>399</td>\n",
       "      <td>1336</td>\n",
       "      <td>23449.0</td>\n",
       "      <td>2017-09-08 01:31:11.000</td>\n",
       "      <td>41.560001</td>\n",
       "      <td>54.279999</td>\n",
       "      <td>0.13</td>\n",
       "      <td>78.879997</td>\n",
       "      <td>192.050003</td>\n",
       "      <td>NaN</td>\n",
       "    </tr>\n",
       "    <tr>\n",
       "      <th>5144771</th>\n",
       "      <td>2017</td>\n",
       "      <td>399</td>\n",
       "      <td>1336</td>\n",
       "      <td>23449.0</td>\n",
       "      <td>2017-09-08 01:31:11.100</td>\n",
       "      <td>41.540001</td>\n",
       "      <td>54.139999</td>\n",
       "      <td>0.14</td>\n",
       "      <td>77.760002</td>\n",
       "      <td>190.759995</td>\n",
       "      <td>NaN</td>\n",
       "    </tr>\n",
       "    <tr>\n",
       "      <th>5144772</th>\n",
       "      <td>2017</td>\n",
       "      <td>399</td>\n",
       "      <td>1336</td>\n",
       "      <td>23449.0</td>\n",
       "      <td>2017-09-08 01:31:11.200</td>\n",
       "      <td>41.509998</td>\n",
       "      <td>54.000000</td>\n",
       "      <td>0.14</td>\n",
       "      <td>76.459999</td>\n",
       "      <td>189.559998</td>\n",
       "      <td>NaN</td>\n",
       "    </tr>\n",
       "    <tr>\n",
       "      <th>5144773</th>\n",
       "      <td>2017</td>\n",
       "      <td>399</td>\n",
       "      <td>1336</td>\n",
       "      <td>23449.0</td>\n",
       "      <td>2017-09-08 01:31:11.300</td>\n",
       "      <td>41.490002</td>\n",
       "      <td>53.860001</td>\n",
       "      <td>0.14</td>\n",
       "      <td>75.800003</td>\n",
       "      <td>188.449997</td>\n",
       "      <td>NaN</td>\n",
       "    </tr>\n",
       "    <tr>\n",
       "      <th>5144320</th>\n",
       "      <td>2017</td>\n",
       "      <td>399</td>\n",
       "      <td>1336</td>\n",
       "      <td>23449.0</td>\n",
       "      <td>2017-09-08 01:31:11.400</td>\n",
       "      <td>41.470001</td>\n",
       "      <td>53.709999</td>\n",
       "      <td>0.15</td>\n",
       "      <td>75.769997</td>\n",
       "      <td>187.589996</td>\n",
       "      <td>NaN</td>\n",
       "    </tr>\n",
       "  </tbody>\n",
       "</table>\n",
       "</div>"
      ],
      "text/plain": [
       "         Season_Year  GameKey  PlayID   GSISID                    Time  \\\n",
       "5144770         2017      399    1336  23449.0 2017-09-08 01:31:11.000   \n",
       "5144771         2017      399    1336  23449.0 2017-09-08 01:31:11.100   \n",
       "5144772         2017      399    1336  23449.0 2017-09-08 01:31:11.200   \n",
       "5144773         2017      399    1336  23449.0 2017-09-08 01:31:11.300   \n",
       "5144320         2017      399    1336  23449.0 2017-09-08 01:31:11.400   \n",
       "\n",
       "                 x          y   dis          o         dir Event  \n",
       "5144770  41.560001  54.279999  0.13  78.879997  192.050003   NaN  \n",
       "5144771  41.540001  54.139999  0.14  77.760002  190.759995   NaN  \n",
       "5144772  41.509998  54.000000  0.14  76.459999  189.559998   NaN  \n",
       "5144773  41.490002  53.860001  0.14  75.800003  188.449997   NaN  \n",
       "5144320  41.470001  53.709999  0.15  75.769997  187.589996   NaN  "
      ]
     },
     "execution_count": 2,
     "metadata": {},
     "output_type": "execute_result"
    }
   ],
   "source": [
    "import pandas as pd\n",
    "\n",
    "df = pd.read_csv (\"./data/NGS-2017-reg-wk1-6.csv\", parse_dates = ['Time'])\n",
    "\n",
    "df.sort_values (['GameKey', 'PlayID', 'GSISID', 'Time'], inplace = True)\n",
    "\n",
    "df.head(5)"
   ]
  },
  {
   "cell_type": "code",
   "execution_count": 3,
   "metadata": {},
   "outputs": [
    {
     "data": {
      "text/html": [
       "<div>\n",
       "<style scoped>\n",
       "    .dataframe tbody tr th:only-of-type {\n",
       "        vertical-align: middle;\n",
       "    }\n",
       "\n",
       "    .dataframe tbody tr th {\n",
       "        vertical-align: top;\n",
       "    }\n",
       "\n",
       "    .dataframe thead th {\n",
       "        text-align: right;\n",
       "    }\n",
       "</style>\n",
       "<table border=\"1\" class=\"dataframe\">\n",
       "  <thead>\n",
       "    <tr style=\"text-align: right;\">\n",
       "      <th></th>\n",
       "      <th></th>\n",
       "      <th></th>\n",
       "      <th></th>\n",
       "      <th>Time_Player</th>\n",
       "      <th>Nb_event_played</th>\n",
       "    </tr>\n",
       "    <tr>\n",
       "      <th>Season_Year</th>\n",
       "      <th>GameKey</th>\n",
       "      <th>PlayID</th>\n",
       "      <th>GSISID</th>\n",
       "      <th></th>\n",
       "      <th></th>\n",
       "    </tr>\n",
       "  </thead>\n",
       "  <tbody>\n",
       "    <tr>\n",
       "      <th rowspan=\"5\" valign=\"top\">2017</th>\n",
       "      <th rowspan=\"5\" valign=\"top\">399</th>\n",
       "      <th rowspan=\"5\" valign=\"top\">1336</th>\n",
       "      <th>23449.0</th>\n",
       "      <td>29</td>\n",
       "      <td>1</td>\n",
       "    </tr>\n",
       "    <tr>\n",
       "      <th>23534.0</th>\n",
       "      <td>205</td>\n",
       "      <td>6</td>\n",
       "    </tr>\n",
       "    <tr>\n",
       "      <th>26035.0</th>\n",
       "      <td>205</td>\n",
       "      <td>6</td>\n",
       "    </tr>\n",
       "    <tr>\n",
       "      <th>27010.0</th>\n",
       "      <td>205</td>\n",
       "      <td>6</td>\n",
       "    </tr>\n",
       "    <tr>\n",
       "      <th>27442.0</th>\n",
       "      <td>205</td>\n",
       "      <td>6</td>\n",
       "    </tr>\n",
       "  </tbody>\n",
       "</table>\n",
       "</div>"
      ],
      "text/plain": [
       "                                    Time_Player  Nb_event_played\n",
       "Season_Year GameKey PlayID GSISID                               \n",
       "2017        399     1336   23449.0           29                1\n",
       "                           23534.0          205                6\n",
       "                           26035.0          205                6\n",
       "                           27010.0          205                6\n",
       "                           27442.0          205                6"
      ]
     },
     "execution_count": 3,
     "metadata": {},
     "output_type": "execute_result"
    }
   ],
   "source": [
    "groupe = df.groupby (['Season_Year','GameKey', 'PlayID', 'GSISID'])[\"Time\",\"Event\"].count()\n",
    "groupe.columns = ['Time_Player', 'Nb_event_played']\n",
    "groupe.reset_index(inplace=True)\n",
    "groupe.head(5)"
   ]
  },
  {
   "cell_type": "code",
   "execution_count": 5,
   "metadata": {},
   "outputs": [
    {
     "data": {
      "text/html": [
       "<div>\n",
       "<style scoped>\n",
       "    .dataframe tbody tr th:only-of-type {\n",
       "        vertical-align: middle;\n",
       "    }\n",
       "\n",
       "    .dataframe tbody tr th {\n",
       "        vertical-align: top;\n",
       "    }\n",
       "\n",
       "    .dataframe thead th {\n",
       "        text-align: right;\n",
       "    }\n",
       "</style>\n",
       "<table border=\"1\" class=\"dataframe\">\n",
       "  <thead>\n",
       "    <tr style=\"text-align: right;\">\n",
       "      <th></th>\n",
       "      <th>Season_Year</th>\n",
       "      <th>GameKey</th>\n",
       "      <th>PlayID</th>\n",
       "      <th>Duration</th>\n",
       "      <th>Max_number_event</th>\n",
       "    </tr>\n",
       "  </thead>\n",
       "  <tbody>\n",
       "    <tr>\n",
       "      <th>0</th>\n",
       "      <td>2017</td>\n",
       "      <td>399</td>\n",
       "      <td>1336</td>\n",
       "      <td>205</td>\n",
       "      <td>6</td>\n",
       "    </tr>\n",
       "    <tr>\n",
       "      <th>1</th>\n",
       "      <td>2017</td>\n",
       "      <td>399</td>\n",
       "      <td>1776</td>\n",
       "      <td>862</td>\n",
       "      <td>10</td>\n",
       "    </tr>\n",
       "    <tr>\n",
       "      <th>2</th>\n",
       "      <td>2017</td>\n",
       "      <td>399</td>\n",
       "      <td>1884</td>\n",
       "      <td>971</td>\n",
       "      <td>8</td>\n",
       "    </tr>\n",
       "    <tr>\n",
       "      <th>3</th>\n",
       "      <td>2017</td>\n",
       "      <td>399</td>\n",
       "      <td>2572</td>\n",
       "      <td>212</td>\n",
       "      <td>6</td>\n",
       "    </tr>\n",
       "    <tr>\n",
       "      <th>4</th>\n",
       "      <td>2017</td>\n",
       "      <td>399</td>\n",
       "      <td>2712</td>\n",
       "      <td>663</td>\n",
       "      <td>11</td>\n",
       "    </tr>\n",
       "  </tbody>\n",
       "</table>\n",
       "</div>"
      ],
      "text/plain": [
       "   Season_Year  GameKey  PlayID  Duration  Max_number_event\n",
       "0         2017      399    1336       205                 6\n",
       "1         2017      399    1776       862                10\n",
       "2         2017      399    1884       971                 8\n",
       "3         2017      399    2572       212                 6\n",
       "4         2017      399    2712       663                11"
      ]
     },
     "execution_count": 5,
     "metadata": {},
     "output_type": "execute_result"
    }
   ],
   "source": [
    "groupy = groupe.groupby([\"Season_Year\",\"GameKey\",\"PlayID\"])['Time_Player',\"Nb_event_played\"].max()\n",
    "groupy.columns = [\"Duration\",\"Max_number_event\"]\n",
    "groupy.reset_index(inplace=True)\n",
    "groupy.head(5)"
   ]
  },
  {
   "cell_type": "code",
   "execution_count": 6,
   "metadata": {},
   "outputs": [
    {
     "data": {
      "text/html": [
       "<div>\n",
       "<style scoped>\n",
       "    .dataframe tbody tr th:only-of-type {\n",
       "        vertical-align: middle;\n",
       "    }\n",
       "\n",
       "    .dataframe tbody tr th {\n",
       "        vertical-align: top;\n",
       "    }\n",
       "\n",
       "    .dataframe thead th {\n",
       "        text-align: right;\n",
       "    }\n",
       "</style>\n",
       "<table border=\"1\" class=\"dataframe\">\n",
       "  <thead>\n",
       "    <tr style=\"text-align: right;\">\n",
       "      <th></th>\n",
       "      <th>Season_Year</th>\n",
       "      <th>GameKey</th>\n",
       "      <th>PlayID</th>\n",
       "      <th>GSISID</th>\n",
       "      <th>Time_Player</th>\n",
       "      <th>Nb_event_played</th>\n",
       "      <th>Duration</th>\n",
       "      <th>Max_number_event</th>\n",
       "    </tr>\n",
       "  </thead>\n",
       "  <tbody>\n",
       "    <tr>\n",
       "      <th>0</th>\n",
       "      <td>2017</td>\n",
       "      <td>399</td>\n",
       "      <td>1336</td>\n",
       "      <td>23449.0</td>\n",
       "      <td>29</td>\n",
       "      <td>1</td>\n",
       "      <td>205</td>\n",
       "      <td>6</td>\n",
       "    </tr>\n",
       "    <tr>\n",
       "      <th>1</th>\n",
       "      <td>2017</td>\n",
       "      <td>399</td>\n",
       "      <td>1336</td>\n",
       "      <td>23534.0</td>\n",
       "      <td>205</td>\n",
       "      <td>6</td>\n",
       "      <td>205</td>\n",
       "      <td>6</td>\n",
       "    </tr>\n",
       "    <tr>\n",
       "      <th>2</th>\n",
       "      <td>2017</td>\n",
       "      <td>399</td>\n",
       "      <td>1336</td>\n",
       "      <td>26035.0</td>\n",
       "      <td>205</td>\n",
       "      <td>6</td>\n",
       "      <td>205</td>\n",
       "      <td>6</td>\n",
       "    </tr>\n",
       "    <tr>\n",
       "      <th>3</th>\n",
       "      <td>2017</td>\n",
       "      <td>399</td>\n",
       "      <td>1336</td>\n",
       "      <td>27010.0</td>\n",
       "      <td>205</td>\n",
       "      <td>6</td>\n",
       "      <td>205</td>\n",
       "      <td>6</td>\n",
       "    </tr>\n",
       "  </tbody>\n",
       "</table>\n",
       "</div>"
      ],
      "text/plain": [
       "   Season_Year  GameKey  PlayID   GSISID  Time_Player  Nb_event_played  \\\n",
       "0         2017      399    1336  23449.0           29                1   \n",
       "1         2017      399    1336  23534.0          205                6   \n",
       "2         2017      399    1336  26035.0          205                6   \n",
       "3         2017      399    1336  27010.0          205                6   \n",
       "\n",
       "   Duration  Max_number_event  \n",
       "0       205                 6  \n",
       "1       205                 6  \n",
       "2       205                 6  \n",
       "3       205                 6  "
      ]
     },
     "execution_count": 6,
     "metadata": {},
     "output_type": "execute_result"
    }
   ],
   "source": [
    "select_player = pd.merge(groupe, groupy, on = [\"Season_Year\",\"GameKey\",\"PlayID\"], how = \"inner\")\n",
    "select_player.head(4)#The shape are checked to be sure of changes"
   ]
  },
  {
   "cell_type": "code",
   "execution_count": 7,
   "metadata": {},
   "outputs": [
    {
     "data": {
      "text/plain": [
       "19758"
      ]
     },
     "execution_count": 7,
     "metadata": {},
     "output_type": "execute_result"
    }
   ],
   "source": [
    "select_player = select_player.loc[(select_player.Time_Player == select_player.Duration )]\n",
    "select_player.shape[0]"
   ]
  },
  {
   "cell_type": "code",
   "execution_count": 13,
   "metadata": {},
   "outputs": [
    {
     "name": "stdout",
     "output_type": "stream",
     "text": [
      "(907,)\n",
      "(853,)\n"
     ]
    }
   ],
   "source": [
    "test_22 = select_player.groupby([\"Season_Year\",\"GameKey\",\"PlayID\"])['GSISID'].count()\n",
    "print(test_22.shape)\n",
    "print(test_22.loc[test_22==22].shape)"
   ]
  },
  {
   "cell_type": "markdown",
   "metadata": {},
   "source": [
    "We realize that there might be another way of detecting which player is involved in the action. \n",
    "Using the player role data csv\n"
   ]
  },
  {
   "cell_type": "code",
   "execution_count": 14,
   "metadata": {},
   "outputs": [
    {
     "data": {
      "text/plain": [
       "{nan,\n",
       " 'penalty_accepted',\n",
       " 'fumble',\n",
       " 'pass_outcome_incomplete',\n",
       " 'fair_catch',\n",
       " 'line_set',\n",
       " 'penalty_declined',\n",
       " 'play_submit',\n",
       " 'kick_received',\n",
       " 'punt',\n",
       " 'pass_outcome_caught',\n",
       " 'lateral',\n",
       " 'pass_arrived',\n",
       " 'out_of_bounds',\n",
       " 'punt_fake',\n",
       " 'punt_received',\n",
       " 'man_in_motion',\n",
       " 'punt_play',\n",
       " 'timeout_tv',\n",
       " 'touchback',\n",
       " 'shift',\n",
       " 'huddle_break_offense',\n",
       " 'fumble_defense_recovered',\n",
       " 'tackle',\n",
       " 'punt_land',\n",
       " 'punt_muffed',\n",
       " 'huddle_start_offense',\n",
       " 'ball_snap',\n",
       " 'first_contact',\n",
       " 'touchdown',\n",
       " 'run',\n",
       " 'penalty_flag',\n",
       " 'punt_downed',\n",
       " 'punt_blocked',\n",
       " 'timeout',\n",
       " 'pass_forward',\n",
       " 'snap_direct',\n",
       " 'pass_outcome_interception',\n",
       " 'fumble_offense_recovered'}"
      ]
     },
     "execution_count": 14,
     "metadata": {},
     "output_type": "execute_result"
    }
   ],
   "source": [
    "\"\"\"The events are a vital information, let's understand them better\"\"\"\n",
    "set(df['Event'])"
   ]
  },
  {
   "cell_type": "code",
   "execution_count": 20,
   "metadata": {},
   "outputs": [
    {
     "data": {
      "text/html": [
       "<div>\n",
       "<style scoped>\n",
       "    .dataframe tbody tr th:only-of-type {\n",
       "        vertical-align: middle;\n",
       "    }\n",
       "\n",
       "    .dataframe tbody tr th {\n",
       "        vertical-align: top;\n",
       "    }\n",
       "\n",
       "    .dataframe thead th {\n",
       "        text-align: right;\n",
       "    }\n",
       "</style>\n",
       "<table border=\"1\" class=\"dataframe\">\n",
       "  <thead>\n",
       "    <tr style=\"text-align: right;\">\n",
       "      <th></th>\n",
       "      <th>Season_Year</th>\n",
       "      <th>Season_Type</th>\n",
       "      <th>GameKey</th>\n",
       "      <th>Game_Date</th>\n",
       "      <th>Week</th>\n",
       "      <th>PlayID</th>\n",
       "      <th>Game_Clock</th>\n",
       "      <th>YardLine</th>\n",
       "      <th>Quarter</th>\n",
       "      <th>Play_Type</th>\n",
       "      <th>Poss_Team</th>\n",
       "      <th>Home_Team_Visit_Team</th>\n",
       "      <th>Score_Home_Visiting</th>\n",
       "      <th>PlayDescription</th>\n",
       "    </tr>\n",
       "  </thead>\n",
       "  <tbody>\n",
       "    <tr>\n",
       "      <th>0</th>\n",
       "      <td>2016</td>\n",
       "      <td>Pre</td>\n",
       "      <td>2</td>\n",
       "      <td>08/13/2016</td>\n",
       "      <td>2</td>\n",
       "      <td>191</td>\n",
       "      <td>12:30</td>\n",
       "      <td>LA 47</td>\n",
       "      <td>1</td>\n",
       "      <td>Punt</td>\n",
       "      <td>LA</td>\n",
       "      <td>LA-DAL</td>\n",
       "      <td>0 - 7</td>\n",
       "      <td>(12:30) J.Hekker punts 52 yards to DAL 1, Cent...</td>\n",
       "    </tr>\n",
       "    <tr>\n",
       "      <th>1</th>\n",
       "      <td>2016</td>\n",
       "      <td>Pre</td>\n",
       "      <td>2</td>\n",
       "      <td>08/13/2016</td>\n",
       "      <td>2</td>\n",
       "      <td>1132</td>\n",
       "      <td>12:08</td>\n",
       "      <td>LA 29</td>\n",
       "      <td>2</td>\n",
       "      <td>Punt</td>\n",
       "      <td>LA</td>\n",
       "      <td>LA-DAL</td>\n",
       "      <td>7 - 21</td>\n",
       "      <td>(12:08) J.Hekker punts 51 yards to DAL 20, Cen...</td>\n",
       "    </tr>\n",
       "  </tbody>\n",
       "</table>\n",
       "</div>"
      ],
      "text/plain": [
       "   Season_Year Season_Type  GameKey   Game_Date  Week  PlayID Game_Clock  \\\n",
       "0         2016         Pre        2  08/13/2016     2     191      12:30   \n",
       "1         2016         Pre        2  08/13/2016     2    1132      12:08   \n",
       "\n",
       "  YardLine  Quarter Play_Type Poss_Team Home_Team_Visit_Team  \\\n",
       "0    LA 47        1      Punt        LA               LA-DAL   \n",
       "1    LA 29        2      Punt        LA               LA-DAL   \n",
       "\n",
       "  Score_Home_Visiting                                    PlayDescription  \n",
       "0               0 - 7  (12:30) J.Hekker punts 52 yards to DAL 1, Cent...  \n",
       "1              7 - 21  (12:08) J.Hekker punts 51 yards to DAL 20, Cen...  "
      ]
     },
     "execution_count": 20,
     "metadata": {},
     "output_type": "execute_result"
    }
   ],
   "source": [
    "\"\"\"Let's analyse the plays and select only the punt plays to begin with\"\"\"\n",
    "punt_play = pd.read_csv(\"./data/play_information.csv\")\n",
    "punt_play.head(2)"
   ]
  },
  {
   "cell_type": "code",
   "execution_count": 21,
   "metadata": {},
   "outputs": [
    {
     "data": {
      "text/plain": [
       "{'Punt'}"
      ]
     },
     "execution_count": 21,
     "metadata": {},
     "output_type": "execute_result"
    }
   ],
   "source": [
    "set(punt_play['Play_Type'])"
   ]
  },
  {
   "cell_type": "markdown",
   "metadata": {},
   "source": [
    "It seems that all the plays in the info are puntplays."
   ]
  },
  {
   "cell_type": "code",
   "execution_count": 22,
   "metadata": {},
   "outputs": [
    {
     "data": {
      "text/html": [
       "<div>\n",
       "<style scoped>\n",
       "    .dataframe tbody tr th:only-of-type {\n",
       "        vertical-align: middle;\n",
       "    }\n",
       "\n",
       "    .dataframe tbody tr th {\n",
       "        vertical-align: top;\n",
       "    }\n",
       "\n",
       "    .dataframe thead th {\n",
       "        text-align: right;\n",
       "    }\n",
       "</style>\n",
       "<table border=\"1\" class=\"dataframe\">\n",
       "  <thead>\n",
       "    <tr style=\"text-align: right;\">\n",
       "      <th></th>\n",
       "      <th>Season_Year</th>\n",
       "      <th>GameKey</th>\n",
       "      <th>PlayID</th>\n",
       "    </tr>\n",
       "  </thead>\n",
       "  <tbody>\n",
       "    <tr>\n",
       "      <th>0</th>\n",
       "      <td>2016</td>\n",
       "      <td>2</td>\n",
       "      <td>191</td>\n",
       "    </tr>\n",
       "    <tr>\n",
       "      <th>1</th>\n",
       "      <td>2016</td>\n",
       "      <td>2</td>\n",
       "      <td>1132</td>\n",
       "    </tr>\n",
       "    <tr>\n",
       "      <th>2</th>\n",
       "      <td>2016</td>\n",
       "      <td>2</td>\n",
       "      <td>1227</td>\n",
       "    </tr>\n",
       "    <tr>\n",
       "      <th>3</th>\n",
       "      <td>2016</td>\n",
       "      <td>2</td>\n",
       "      <td>1864</td>\n",
       "    </tr>\n",
       "    <tr>\n",
       "      <th>4</th>\n",
       "      <td>2016</td>\n",
       "      <td>2</td>\n",
       "      <td>2247</td>\n",
       "    </tr>\n",
       "  </tbody>\n",
       "</table>\n",
       "</div>"
      ],
      "text/plain": [
       "   Season_Year  GameKey  PlayID\n",
       "0         2016        2     191\n",
       "1         2016        2    1132\n",
       "2         2016        2    1227\n",
       "3         2016        2    1864\n",
       "4         2016        2    2247"
      ]
     },
     "execution_count": 22,
     "metadata": {},
     "output_type": "execute_result"
    }
   ],
   "source": [
    "simple_play_info = pd.DataFrame()\n",
    "simple_play_info['Season_Year']=punt_play['Season_Year']\n",
    "simple_play_info['GameKey'] = punt_play['GameKey']\n",
    "simple_play_info['PlayID'] = punt_play['PlayID']\n",
    "simple_play_info.head(5)\n"
   ]
  },
  {
   "cell_type": "code",
   "execution_count": 23,
   "metadata": {
    "collapsed": true
   },
   "outputs": [],
   "source": [
    "merged_plays = pd.merge(df, simple_play_info, on = [\"Season_Year\",\"GameKey\",\"PlayID\"], how = \"inner\")"
   ]
  },
  {
   "cell_type": "code",
   "execution_count": 24,
   "metadata": {},
   "outputs": [
    {
     "name": "stdout",
     "output_type": "stream",
     "text": [
      "(9422296, 11)\n"
     ]
    },
    {
     "data": {
      "text/plain": [
       "(9433922, 11)"
      ]
     },
     "execution_count": 24,
     "metadata": {},
     "output_type": "execute_result"
    }
   ],
   "source": [
    "print(merged_plays.shape)\n",
    "df.shape"
   ]
  },
  {
   "cell_type": "markdown",
   "metadata": {},
   "source": [
    "There is not a major difference between the two so we guess that the vaste majority of plays in the statistics dataframe are already punt plays."
   ]
  },
  {
   "cell_type": "code",
   "execution_count": 25,
   "metadata": {
    "collapsed": true
   },
   "outputs": [],
   "source": [
    "new_merged_plays =  pd.merge(merged_plays, groupy, on = [\"Season_Year\",\"GameKey\",\"PlayID\"], how = \"inner\")"
   ]
  },
  {
   "cell_type": "code",
   "execution_count": 26,
   "metadata": {},
   "outputs": [
    {
     "data": {
      "text/html": [
       "<div>\n",
       "<style scoped>\n",
       "    .dataframe tbody tr th:only-of-type {\n",
       "        vertical-align: middle;\n",
       "    }\n",
       "\n",
       "    .dataframe tbody tr th {\n",
       "        vertical-align: top;\n",
       "    }\n",
       "\n",
       "    .dataframe thead th {\n",
       "        text-align: right;\n",
       "    }\n",
       "</style>\n",
       "<table border=\"1\" class=\"dataframe\">\n",
       "  <thead>\n",
       "    <tr style=\"text-align: right;\">\n",
       "      <th></th>\n",
       "      <th>Season_Year</th>\n",
       "      <th>GameKey</th>\n",
       "      <th>PlayID</th>\n",
       "      <th>GSISID</th>\n",
       "      <th>Time</th>\n",
       "      <th>x</th>\n",
       "      <th>y</th>\n",
       "      <th>dis</th>\n",
       "      <th>o</th>\n",
       "      <th>dir</th>\n",
       "      <th>Event</th>\n",
       "      <th>Duration</th>\n",
       "      <th>Max_number_event</th>\n",
       "    </tr>\n",
       "  </thead>\n",
       "  <tbody>\n",
       "    <tr>\n",
       "      <th>0</th>\n",
       "      <td>2017</td>\n",
       "      <td>399</td>\n",
       "      <td>1336</td>\n",
       "      <td>23449.0</td>\n",
       "      <td>2017-09-08 01:31:11.000</td>\n",
       "      <td>41.560001</td>\n",
       "      <td>54.279999</td>\n",
       "      <td>0.13</td>\n",
       "      <td>78.879997</td>\n",
       "      <td>192.050003</td>\n",
       "      <td>NaN</td>\n",
       "      <td>205</td>\n",
       "      <td>6</td>\n",
       "    </tr>\n",
       "    <tr>\n",
       "      <th>1</th>\n",
       "      <td>2017</td>\n",
       "      <td>399</td>\n",
       "      <td>1336</td>\n",
       "      <td>23449.0</td>\n",
       "      <td>2017-09-08 01:31:11.100</td>\n",
       "      <td>41.540001</td>\n",
       "      <td>54.139999</td>\n",
       "      <td>0.14</td>\n",
       "      <td>77.760002</td>\n",
       "      <td>190.759995</td>\n",
       "      <td>NaN</td>\n",
       "      <td>205</td>\n",
       "      <td>6</td>\n",
       "    </tr>\n",
       "    <tr>\n",
       "      <th>2</th>\n",
       "      <td>2017</td>\n",
       "      <td>399</td>\n",
       "      <td>1336</td>\n",
       "      <td>23449.0</td>\n",
       "      <td>2017-09-08 01:31:11.200</td>\n",
       "      <td>41.509998</td>\n",
       "      <td>54.000000</td>\n",
       "      <td>0.14</td>\n",
       "      <td>76.459999</td>\n",
       "      <td>189.559998</td>\n",
       "      <td>NaN</td>\n",
       "      <td>205</td>\n",
       "      <td>6</td>\n",
       "    </tr>\n",
       "    <tr>\n",
       "      <th>3</th>\n",
       "      <td>2017</td>\n",
       "      <td>399</td>\n",
       "      <td>1336</td>\n",
       "      <td>23449.0</td>\n",
       "      <td>2017-09-08 01:31:11.300</td>\n",
       "      <td>41.490002</td>\n",
       "      <td>53.860001</td>\n",
       "      <td>0.14</td>\n",
       "      <td>75.800003</td>\n",
       "      <td>188.449997</td>\n",
       "      <td>NaN</td>\n",
       "      <td>205</td>\n",
       "      <td>6</td>\n",
       "    </tr>\n",
       "    <tr>\n",
       "      <th>4</th>\n",
       "      <td>2017</td>\n",
       "      <td>399</td>\n",
       "      <td>1336</td>\n",
       "      <td>23449.0</td>\n",
       "      <td>2017-09-08 01:31:11.400</td>\n",
       "      <td>41.470001</td>\n",
       "      <td>53.709999</td>\n",
       "      <td>0.15</td>\n",
       "      <td>75.769997</td>\n",
       "      <td>187.589996</td>\n",
       "      <td>NaN</td>\n",
       "      <td>205</td>\n",
       "      <td>6</td>\n",
       "    </tr>\n",
       "  </tbody>\n",
       "</table>\n",
       "</div>"
      ],
      "text/plain": [
       "   Season_Year  GameKey  PlayID   GSISID                    Time          x  \\\n",
       "0         2017      399    1336  23449.0 2017-09-08 01:31:11.000  41.560001   \n",
       "1         2017      399    1336  23449.0 2017-09-08 01:31:11.100  41.540001   \n",
       "2         2017      399    1336  23449.0 2017-09-08 01:31:11.200  41.509998   \n",
       "3         2017      399    1336  23449.0 2017-09-08 01:31:11.300  41.490002   \n",
       "4         2017      399    1336  23449.0 2017-09-08 01:31:11.400  41.470001   \n",
       "\n",
       "           y   dis          o         dir Event  Duration  Max_number_event  \n",
       "0  54.279999  0.13  78.879997  192.050003   NaN       205                 6  \n",
       "1  54.139999  0.14  77.760002  190.759995   NaN       205                 6  \n",
       "2  54.000000  0.14  76.459999  189.559998   NaN       205                 6  \n",
       "3  53.860001  0.14  75.800003  188.449997   NaN       205                 6  \n",
       "4  53.709999  0.15  75.769997  187.589996   NaN       205                 6  "
      ]
     },
     "execution_count": 26,
     "metadata": {},
     "output_type": "execute_result"
    }
   ],
   "source": [
    "new_merged_plays.head(5)"
   ]
  },
  {
   "cell_type": "code",
   "execution_count": 27,
   "metadata": {},
   "outputs": [
    {
     "data": {
      "text/plain": [
       "\"Regarder s'il y a tjs un snapp ball à chaque partie\""
      ]
     },
     "execution_count": 27,
     "metadata": {},
     "output_type": "execute_result"
    }
   ],
   "source": [
    "\"\"\"Regarder s'il y a tjs un snapp ball à chaque partie\"\"\"\n"
   ]
  },
  {
   "cell_type": "code",
   "execution_count": 18,
   "metadata": {},
   "outputs": [
    {
     "data": {
      "text/html": [
       "<div>\n",
       "<style scoped>\n",
       "    .dataframe tbody tr th:only-of-type {\n",
       "        vertical-align: middle;\n",
       "    }\n",
       "\n",
       "    .dataframe tbody tr th {\n",
       "        vertical-align: top;\n",
       "    }\n",
       "\n",
       "    .dataframe thead th {\n",
       "        text-align: right;\n",
       "    }\n",
       "</style>\n",
       "<table border=\"1\" class=\"dataframe\">\n",
       "  <thead>\n",
       "    <tr style=\"text-align: right;\">\n",
       "      <th></th>\n",
       "      <th>Season_Year</th>\n",
       "      <th>GameKey</th>\n",
       "      <th>PlayID</th>\n",
       "      <th>GSISID</th>\n",
       "      <th>Role</th>\n",
       "    </tr>\n",
       "  </thead>\n",
       "  <tbody>\n",
       "    <tr>\n",
       "      <th>0</th>\n",
       "      <td>2017</td>\n",
       "      <td>414</td>\n",
       "      <td>188</td>\n",
       "      <td>33704</td>\n",
       "      <td>PDL2</td>\n",
       "    </tr>\n",
       "    <tr>\n",
       "      <th>1</th>\n",
       "      <td>2017</td>\n",
       "      <td>414</td>\n",
       "      <td>1107</td>\n",
       "      <td>33704</td>\n",
       "      <td>PDL2</td>\n",
       "    </tr>\n",
       "    <tr>\n",
       "      <th>2</th>\n",
       "      <td>2017</td>\n",
       "      <td>424</td>\n",
       "      <td>1113</td>\n",
       "      <td>33704</td>\n",
       "      <td>PDR3</td>\n",
       "    </tr>\n",
       "    <tr>\n",
       "      <th>3</th>\n",
       "      <td>2017</td>\n",
       "      <td>424</td>\n",
       "      <td>1454</td>\n",
       "      <td>33704</td>\n",
       "      <td>PLR2</td>\n",
       "    </tr>\n",
       "  </tbody>\n",
       "</table>\n",
       "</div>"
      ],
      "text/plain": [
       "   Season_Year  GameKey  PlayID  GSISID  Role\n",
       "0         2017      414     188   33704  PDL2\n",
       "1         2017      414    1107   33704  PDL2\n",
       "2         2017      424    1113   33704  PDR3\n",
       "3         2017      424    1454   33704  PLR2"
      ]
     },
     "execution_count": 18,
     "metadata": {},
     "output_type": "execute_result"
    }
   ],
   "source": [
    "\"\"\"On va s'attaquer aux infos players pour chaque joueurs.\"\"\"\n",
    "player_role_punt = pd.read_csv(\"./data/play_player_role_data.csv\")\n",
    "player_role_punt.head(4)"
   ]
  },
  {
   "cell_type": "code",
   "execution_count": 29,
   "metadata": {},
   "outputs": [
    {
     "data": {
      "text/html": [
       "<div>\n",
       "<style scoped>\n",
       "    .dataframe tbody tr th:only-of-type {\n",
       "        vertical-align: middle;\n",
       "    }\n",
       "\n",
       "    .dataframe tbody tr th {\n",
       "        vertical-align: top;\n",
       "    }\n",
       "\n",
       "    .dataframe thead th {\n",
       "        text-align: right;\n",
       "    }\n",
       "</style>\n",
       "<table border=\"1\" class=\"dataframe\">\n",
       "  <thead>\n",
       "    <tr style=\"text-align: right;\">\n",
       "      <th></th>\n",
       "      <th>Season_Year</th>\n",
       "      <th>GameKey</th>\n",
       "      <th>PlayID</th>\n",
       "      <th>GSISID</th>\n",
       "      <th>Time</th>\n",
       "      <th>x</th>\n",
       "      <th>y</th>\n",
       "      <th>dis</th>\n",
       "      <th>o</th>\n",
       "      <th>dir</th>\n",
       "      <th>Event</th>\n",
       "      <th>Duration</th>\n",
       "      <th>Max_number_event</th>\n",
       "      <th>Role</th>\n",
       "    </tr>\n",
       "  </thead>\n",
       "  <tbody>\n",
       "    <tr>\n",
       "      <th>0</th>\n",
       "      <td>2017</td>\n",
       "      <td>399</td>\n",
       "      <td>1336</td>\n",
       "      <td>23534.0</td>\n",
       "      <td>2017-09-08 01:30:53.400</td>\n",
       "      <td>78.739998</td>\n",
       "      <td>29.820000</td>\n",
       "      <td>0.02</td>\n",
       "      <td>199.979996</td>\n",
       "      <td>168.630005</td>\n",
       "      <td>punt_play</td>\n",
       "      <td>205</td>\n",
       "      <td>6</td>\n",
       "      <td>P</td>\n",
       "    </tr>\n",
       "    <tr>\n",
       "      <th>1</th>\n",
       "      <td>2017</td>\n",
       "      <td>399</td>\n",
       "      <td>1336</td>\n",
       "      <td>23534.0</td>\n",
       "      <td>2017-09-08 01:30:53.500</td>\n",
       "      <td>78.750000</td>\n",
       "      <td>29.790001</td>\n",
       "      <td>0.03</td>\n",
       "      <td>199.009995</td>\n",
       "      <td>166.580002</td>\n",
       "      <td>NaN</td>\n",
       "      <td>205</td>\n",
       "      <td>6</td>\n",
       "      <td>P</td>\n",
       "    </tr>\n",
       "    <tr>\n",
       "      <th>2</th>\n",
       "      <td>2017</td>\n",
       "      <td>399</td>\n",
       "      <td>1336</td>\n",
       "      <td>23534.0</td>\n",
       "      <td>2017-09-08 01:30:53.600</td>\n",
       "      <td>78.769997</td>\n",
       "      <td>29.760000</td>\n",
       "      <td>0.04</td>\n",
       "      <td>198.029999</td>\n",
       "      <td>165.839996</td>\n",
       "      <td>NaN</td>\n",
       "      <td>205</td>\n",
       "      <td>6</td>\n",
       "      <td>P</td>\n",
       "    </tr>\n",
       "  </tbody>\n",
       "</table>\n",
       "</div>"
      ],
      "text/plain": [
       "   Season_Year  GameKey  PlayID   GSISID                    Time          x  \\\n",
       "0         2017      399    1336  23534.0 2017-09-08 01:30:53.400  78.739998   \n",
       "1         2017      399    1336  23534.0 2017-09-08 01:30:53.500  78.750000   \n",
       "2         2017      399    1336  23534.0 2017-09-08 01:30:53.600  78.769997   \n",
       "\n",
       "           y   dis           o         dir      Event  Duration  \\\n",
       "0  29.820000  0.02  199.979996  168.630005  punt_play       205   \n",
       "1  29.790001  0.03  199.009995  166.580002        NaN       205   \n",
       "2  29.760000  0.04  198.029999  165.839996        NaN       205   \n",
       "\n",
       "   Max_number_event Role  \n",
       "0                 6    P  \n",
       "1                 6    P  \n",
       "2                 6    P  "
      ]
     },
     "execution_count": 29,
     "metadata": {},
     "output_type": "execute_result"
    }
   ],
   "source": [
    "final_merge = pd.merge(new_merged_plays, player_role_punt, on = [\"Season_Year\",\"GameKey\",\"PlayID\", \"GSISID\"], how = \"inner\")\n",
    "final_merge.head(3)"
   ]
  },
  {
   "cell_type": "code",
   "execution_count": 32,
   "metadata": {},
   "outputs": [
    {
     "name": "stdout",
     "output_type": "stream",
     "text": [
      "(9422296, 13)\n"
     ]
    },
    {
     "data": {
      "text/plain": [
       "(7074107, 14)"
      ]
     },
     "execution_count": 32,
     "metadata": {},
     "output_type": "execute_result"
    }
   ],
   "source": [
    "print(new_merged_plays.shape)\n",
    "final_merge.shape"
   ]
  },
  {
   "cell_type": "code",
   "execution_count": 31,
   "metadata": {},
   "outputs": [
    {
     "data": {
      "text/plain": [
       "(9422296, 13)"
      ]
     },
     "execution_count": 31,
     "metadata": {},
     "output_type": "execute_result"
    }
   ],
   "source": [
    "final"
   ]
  },
  {
   "cell_type": "code",
   "execution_count": null,
   "metadata": {
    "collapsed": true
   },
   "outputs": [],
   "source": []
  }
 ],
 "metadata": {
  "kernelspec": {
   "display_name": "Python 3",
   "language": "python",
   "name": "python3"
  },
  "language_info": {
   "codemirror_mode": {
    "name": "ipython",
    "version": 3
   },
   "file_extension": ".py",
   "mimetype": "text/x-python",
   "name": "python",
   "nbconvert_exporter": "python",
   "pygments_lexer": "ipython3",
   "version": "3.6.3"
  }
 },
 "nbformat": 4,
 "nbformat_minor": 2
}
